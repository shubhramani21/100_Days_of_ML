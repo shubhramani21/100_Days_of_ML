{
 "cells": [
  {
   "cell_type": "code",
   "execution_count": 4,
   "id": "dead59fe",
   "metadata": {},
   "outputs": [],
   "source": [
    "import pandas as pd\n",
    "import numpy as np\n",
    "import requests\n",
    "from bs4 import BeautifulSoup"
   ]
  },
  {
   "cell_type": "code",
   "execution_count": 58,
   "id": "f0f6b196",
   "metadata": {},
   "outputs": [
    {
     "name": "stderr",
     "output_type": "stream",
     "text": [
      "C:\\Users\\shubh\\AppData\\Local\\Temp\\ipykernel_20300\\377082265.py:45: FutureWarning: The frame.append method is deprecated and will be removed from pandas in a future version. Use pandas.concat instead.\n",
      "  final=final.append(df,ignore_index=True)\n",
      "C:\\Users\\shubh\\AppData\\Local\\Temp\\ipykernel_20300\\377082265.py:45: FutureWarning: The frame.append method is deprecated and will be removed from pandas in a future version. Use pandas.concat instead.\n",
      "  final=final.append(df,ignore_index=True)\n",
      "C:\\Users\\shubh\\AppData\\Local\\Temp\\ipykernel_20300\\377082265.py:45: FutureWarning: The frame.append method is deprecated and will be removed from pandas in a future version. Use pandas.concat instead.\n",
      "  final=final.append(df,ignore_index=True)\n",
      "C:\\Users\\shubh\\AppData\\Local\\Temp\\ipykernel_20300\\377082265.py:45: FutureWarning: The frame.append method is deprecated and will be removed from pandas in a future version. Use pandas.concat instead.\n",
      "  final=final.append(df,ignore_index=True)\n",
      "C:\\Users\\shubh\\AppData\\Local\\Temp\\ipykernel_20300\\377082265.py:45: FutureWarning: The frame.append method is deprecated and will be removed from pandas in a future version. Use pandas.concat instead.\n",
      "  final=final.append(df,ignore_index=True)\n",
      "C:\\Users\\shubh\\AppData\\Local\\Temp\\ipykernel_20300\\377082265.py:45: FutureWarning: The frame.append method is deprecated and will be removed from pandas in a future version. Use pandas.concat instead.\n",
      "  final=final.append(df,ignore_index=True)\n",
      "C:\\Users\\shubh\\AppData\\Local\\Temp\\ipykernel_20300\\377082265.py:45: FutureWarning: The frame.append method is deprecated and will be removed from pandas in a future version. Use pandas.concat instead.\n",
      "  final=final.append(df,ignore_index=True)\n",
      "C:\\Users\\shubh\\AppData\\Local\\Temp\\ipykernel_20300\\377082265.py:45: FutureWarning: The frame.append method is deprecated and will be removed from pandas in a future version. Use pandas.concat instead.\n",
      "  final=final.append(df,ignore_index=True)\n",
      "C:\\Users\\shubh\\AppData\\Local\\Temp\\ipykernel_20300\\377082265.py:45: FutureWarning: The frame.append method is deprecated and will be removed from pandas in a future version. Use pandas.concat instead.\n",
      "  final=final.append(df,ignore_index=True)\n",
      "C:\\Users\\shubh\\AppData\\Local\\Temp\\ipykernel_20300\\377082265.py:45: FutureWarning: The frame.append method is deprecated and will be removed from pandas in a future version. Use pandas.concat instead.\n",
      "  final=final.append(df,ignore_index=True)\n",
      "C:\\Users\\shubh\\AppData\\Local\\Temp\\ipykernel_20300\\377082265.py:45: FutureWarning: The frame.append method is deprecated and will be removed from pandas in a future version. Use pandas.concat instead.\n",
      "  final=final.append(df,ignore_index=True)\n",
      "C:\\Users\\shubh\\AppData\\Local\\Temp\\ipykernel_20300\\377082265.py:45: FutureWarning: The frame.append method is deprecated and will be removed from pandas in a future version. Use pandas.concat instead.\n",
      "  final=final.append(df,ignore_index=True)\n",
      "C:\\Users\\shubh\\AppData\\Local\\Temp\\ipykernel_20300\\377082265.py:45: FutureWarning: The frame.append method is deprecated and will be removed from pandas in a future version. Use pandas.concat instead.\n",
      "  final=final.append(df,ignore_index=True)\n",
      "C:\\Users\\shubh\\AppData\\Local\\Temp\\ipykernel_20300\\377082265.py:45: FutureWarning: The frame.append method is deprecated and will be removed from pandas in a future version. Use pandas.concat instead.\n",
      "  final=final.append(df,ignore_index=True)\n",
      "C:\\Users\\shubh\\AppData\\Local\\Temp\\ipykernel_20300\\377082265.py:45: FutureWarning: The frame.append method is deprecated and will be removed from pandas in a future version. Use pandas.concat instead.\n",
      "  final=final.append(df,ignore_index=True)\n",
      "C:\\Users\\shubh\\AppData\\Local\\Temp\\ipykernel_20300\\377082265.py:45: FutureWarning: The frame.append method is deprecated and will be removed from pandas in a future version. Use pandas.concat instead.\n",
      "  final=final.append(df,ignore_index=True)\n",
      "C:\\Users\\shubh\\AppData\\Local\\Temp\\ipykernel_20300\\377082265.py:45: FutureWarning: The frame.append method is deprecated and will be removed from pandas in a future version. Use pandas.concat instead.\n",
      "  final=final.append(df,ignore_index=True)\n",
      "C:\\Users\\shubh\\AppData\\Local\\Temp\\ipykernel_20300\\377082265.py:45: FutureWarning: The frame.append method is deprecated and will be removed from pandas in a future version. Use pandas.concat instead.\n",
      "  final=final.append(df,ignore_index=True)\n",
      "C:\\Users\\shubh\\AppData\\Local\\Temp\\ipykernel_20300\\377082265.py:45: FutureWarning: The frame.append method is deprecated and will be removed from pandas in a future version. Use pandas.concat instead.\n",
      "  final=final.append(df,ignore_index=True)\n",
      "C:\\Users\\shubh\\AppData\\Local\\Temp\\ipykernel_20300\\377082265.py:45: FutureWarning: The frame.append method is deprecated and will be removed from pandas in a future version. Use pandas.concat instead.\n",
      "  final=final.append(df,ignore_index=True)\n",
      "C:\\Users\\shubh\\AppData\\Local\\Temp\\ipykernel_20300\\377082265.py:45: FutureWarning: The frame.append method is deprecated and will be removed from pandas in a future version. Use pandas.concat instead.\n",
      "  final=final.append(df,ignore_index=True)\n",
      "C:\\Users\\shubh\\AppData\\Local\\Temp\\ipykernel_20300\\377082265.py:45: FutureWarning: The frame.append method is deprecated and will be removed from pandas in a future version. Use pandas.concat instead.\n",
      "  final=final.append(df,ignore_index=True)\n",
      "C:\\Users\\shubh\\AppData\\Local\\Temp\\ipykernel_20300\\377082265.py:45: FutureWarning: The frame.append method is deprecated and will be removed from pandas in a future version. Use pandas.concat instead.\n",
      "  final=final.append(df,ignore_index=True)\n",
      "C:\\Users\\shubh\\AppData\\Local\\Temp\\ipykernel_20300\\377082265.py:45: FutureWarning: The frame.append method is deprecated and will be removed from pandas in a future version. Use pandas.concat instead.\n",
      "  final=final.append(df,ignore_index=True)\n",
      "C:\\Users\\shubh\\AppData\\Local\\Temp\\ipykernel_20300\\377082265.py:45: FutureWarning: The frame.append method is deprecated and will be removed from pandas in a future version. Use pandas.concat instead.\n",
      "  final=final.append(df,ignore_index=True)\n",
      "C:\\Users\\shubh\\AppData\\Local\\Temp\\ipykernel_20300\\377082265.py:45: FutureWarning: The frame.append method is deprecated and will be removed from pandas in a future version. Use pandas.concat instead.\n",
      "  final=final.append(df,ignore_index=True)\n",
      "C:\\Users\\shubh\\AppData\\Local\\Temp\\ipykernel_20300\\377082265.py:45: FutureWarning: The frame.append method is deprecated and will be removed from pandas in a future version. Use pandas.concat instead.\n",
      "  final=final.append(df,ignore_index=True)\n",
      "C:\\Users\\shubh\\AppData\\Local\\Temp\\ipykernel_20300\\377082265.py:45: FutureWarning: The frame.append method is deprecated and will be removed from pandas in a future version. Use pandas.concat instead.\n",
      "  final=final.append(df,ignore_index=True)\n",
      "C:\\Users\\shubh\\AppData\\Local\\Temp\\ipykernel_20300\\377082265.py:45: FutureWarning: The frame.append method is deprecated and will be removed from pandas in a future version. Use pandas.concat instead.\n",
      "  final=final.append(df,ignore_index=True)\n",
      "C:\\Users\\shubh\\AppData\\Local\\Temp\\ipykernel_20300\\377082265.py:45: FutureWarning: The frame.append method is deprecated and will be removed from pandas in a future version. Use pandas.concat instead.\n",
      "  final=final.append(df,ignore_index=True)\n",
      "C:\\Users\\shubh\\AppData\\Local\\Temp\\ipykernel_20300\\377082265.py:45: FutureWarning: The frame.append method is deprecated and will be removed from pandas in a future version. Use pandas.concat instead.\n",
      "  final=final.append(df,ignore_index=True)\n",
      "C:\\Users\\shubh\\AppData\\Local\\Temp\\ipykernel_20300\\377082265.py:45: FutureWarning: The frame.append method is deprecated and will be removed from pandas in a future version. Use pandas.concat instead.\n",
      "  final=final.append(df,ignore_index=True)\n",
      "C:\\Users\\shubh\\AppData\\Local\\Temp\\ipykernel_20300\\377082265.py:45: FutureWarning: The frame.append method is deprecated and will be removed from pandas in a future version. Use pandas.concat instead.\n",
      "  final=final.append(df,ignore_index=True)\n",
      "C:\\Users\\shubh\\AppData\\Local\\Temp\\ipykernel_20300\\377082265.py:45: FutureWarning: The frame.append method is deprecated and will be removed from pandas in a future version. Use pandas.concat instead.\n",
      "  final=final.append(df,ignore_index=True)\n"
     ]
    },
    {
     "name": "stderr",
     "output_type": "stream",
     "text": [
      "C:\\Users\\shubh\\AppData\\Local\\Temp\\ipykernel_20300\\377082265.py:45: FutureWarning: The frame.append method is deprecated and will be removed from pandas in a future version. Use pandas.concat instead.\n",
      "  final=final.append(df,ignore_index=True)\n",
      "C:\\Users\\shubh\\AppData\\Local\\Temp\\ipykernel_20300\\377082265.py:45: FutureWarning: The frame.append method is deprecated and will be removed from pandas in a future version. Use pandas.concat instead.\n",
      "  final=final.append(df,ignore_index=True)\n",
      "C:\\Users\\shubh\\AppData\\Local\\Temp\\ipykernel_20300\\377082265.py:45: FutureWarning: The frame.append method is deprecated and will be removed from pandas in a future version. Use pandas.concat instead.\n",
      "  final=final.append(df,ignore_index=True)\n",
      "C:\\Users\\shubh\\AppData\\Local\\Temp\\ipykernel_20300\\377082265.py:45: FutureWarning: The frame.append method is deprecated and will be removed from pandas in a future version. Use pandas.concat instead.\n",
      "  final=final.append(df,ignore_index=True)\n",
      "C:\\Users\\shubh\\AppData\\Local\\Temp\\ipykernel_20300\\377082265.py:45: FutureWarning: The frame.append method is deprecated and will be removed from pandas in a future version. Use pandas.concat instead.\n",
      "  final=final.append(df,ignore_index=True)\n",
      "C:\\Users\\shubh\\AppData\\Local\\Temp\\ipykernel_20300\\377082265.py:45: FutureWarning: The frame.append method is deprecated and will be removed from pandas in a future version. Use pandas.concat instead.\n",
      "  final=final.append(df,ignore_index=True)\n",
      "C:\\Users\\shubh\\AppData\\Local\\Temp\\ipykernel_20300\\377082265.py:45: FutureWarning: The frame.append method is deprecated and will be removed from pandas in a future version. Use pandas.concat instead.\n",
      "  final=final.append(df,ignore_index=True)\n",
      "C:\\Users\\shubh\\AppData\\Local\\Temp\\ipykernel_20300\\377082265.py:45: FutureWarning: The frame.append method is deprecated and will be removed from pandas in a future version. Use pandas.concat instead.\n",
      "  final=final.append(df,ignore_index=True)\n",
      "C:\\Users\\shubh\\AppData\\Local\\Temp\\ipykernel_20300\\377082265.py:45: FutureWarning: The frame.append method is deprecated and will be removed from pandas in a future version. Use pandas.concat instead.\n",
      "  final=final.append(df,ignore_index=True)\n",
      "C:\\Users\\shubh\\AppData\\Local\\Temp\\ipykernel_20300\\377082265.py:45: FutureWarning: The frame.append method is deprecated and will be removed from pandas in a future version. Use pandas.concat instead.\n",
      "  final=final.append(df,ignore_index=True)\n",
      "C:\\Users\\shubh\\AppData\\Local\\Temp\\ipykernel_20300\\377082265.py:45: FutureWarning: The frame.append method is deprecated and will be removed from pandas in a future version. Use pandas.concat instead.\n",
      "  final=final.append(df,ignore_index=True)\n",
      "C:\\Users\\shubh\\AppData\\Local\\Temp\\ipykernel_20300\\377082265.py:45: FutureWarning: The frame.append method is deprecated and will be removed from pandas in a future version. Use pandas.concat instead.\n",
      "  final=final.append(df,ignore_index=True)\n",
      "C:\\Users\\shubh\\AppData\\Local\\Temp\\ipykernel_20300\\377082265.py:45: FutureWarning: The frame.append method is deprecated and will be removed from pandas in a future version. Use pandas.concat instead.\n",
      "  final=final.append(df,ignore_index=True)\n",
      "C:\\Users\\shubh\\AppData\\Local\\Temp\\ipykernel_20300\\377082265.py:45: FutureWarning: The frame.append method is deprecated and will be removed from pandas in a future version. Use pandas.concat instead.\n",
      "  final=final.append(df,ignore_index=True)\n",
      "C:\\Users\\shubh\\AppData\\Local\\Temp\\ipykernel_20300\\377082265.py:45: FutureWarning: The frame.append method is deprecated and will be removed from pandas in a future version. Use pandas.concat instead.\n",
      "  final=final.append(df,ignore_index=True)\n",
      "C:\\Users\\shubh\\AppData\\Local\\Temp\\ipykernel_20300\\377082265.py:45: FutureWarning: The frame.append method is deprecated and will be removed from pandas in a future version. Use pandas.concat instead.\n",
      "  final=final.append(df,ignore_index=True)\n",
      "C:\\Users\\shubh\\AppData\\Local\\Temp\\ipykernel_20300\\377082265.py:45: FutureWarning: The frame.append method is deprecated and will be removed from pandas in a future version. Use pandas.concat instead.\n",
      "  final=final.append(df,ignore_index=True)\n",
      "C:\\Users\\shubh\\AppData\\Local\\Temp\\ipykernel_20300\\377082265.py:45: FutureWarning: The frame.append method is deprecated and will be removed from pandas in a future version. Use pandas.concat instead.\n",
      "  final=final.append(df,ignore_index=True)\n",
      "C:\\Users\\shubh\\AppData\\Local\\Temp\\ipykernel_20300\\377082265.py:45: FutureWarning: The frame.append method is deprecated and will be removed from pandas in a future version. Use pandas.concat instead.\n",
      "  final=final.append(df,ignore_index=True)\n",
      "C:\\Users\\shubh\\AppData\\Local\\Temp\\ipykernel_20300\\377082265.py:45: FutureWarning: The frame.append method is deprecated and will be removed from pandas in a future version. Use pandas.concat instead.\n",
      "  final=final.append(df,ignore_index=True)\n",
      "C:\\Users\\shubh\\AppData\\Local\\Temp\\ipykernel_20300\\377082265.py:45: FutureWarning: The frame.append method is deprecated and will be removed from pandas in a future version. Use pandas.concat instead.\n",
      "  final=final.append(df,ignore_index=True)\n",
      "C:\\Users\\shubh\\AppData\\Local\\Temp\\ipykernel_20300\\377082265.py:45: FutureWarning: The frame.append method is deprecated and will be removed from pandas in a future version. Use pandas.concat instead.\n",
      "  final=final.append(df,ignore_index=True)\n",
      "C:\\Users\\shubh\\AppData\\Local\\Temp\\ipykernel_20300\\377082265.py:45: FutureWarning: The frame.append method is deprecated and will be removed from pandas in a future version. Use pandas.concat instead.\n",
      "  final=final.append(df,ignore_index=True)\n",
      "C:\\Users\\shubh\\AppData\\Local\\Temp\\ipykernel_20300\\377082265.py:45: FutureWarning: The frame.append method is deprecated and will be removed from pandas in a future version. Use pandas.concat instead.\n",
      "  final=final.append(df,ignore_index=True)\n",
      "C:\\Users\\shubh\\AppData\\Local\\Temp\\ipykernel_20300\\377082265.py:45: FutureWarning: The frame.append method is deprecated and will be removed from pandas in a future version. Use pandas.concat instead.\n",
      "  final=final.append(df,ignore_index=True)\n",
      "C:\\Users\\shubh\\AppData\\Local\\Temp\\ipykernel_20300\\377082265.py:45: FutureWarning: The frame.append method is deprecated and will be removed from pandas in a future version. Use pandas.concat instead.\n",
      "  final=final.append(df,ignore_index=True)\n",
      "C:\\Users\\shubh\\AppData\\Local\\Temp\\ipykernel_20300\\377082265.py:45: FutureWarning: The frame.append method is deprecated and will be removed from pandas in a future version. Use pandas.concat instead.\n",
      "  final=final.append(df,ignore_index=True)\n",
      "C:\\Users\\shubh\\AppData\\Local\\Temp\\ipykernel_20300\\377082265.py:45: FutureWarning: The frame.append method is deprecated and will be removed from pandas in a future version. Use pandas.concat instead.\n",
      "  final=final.append(df,ignore_index=True)\n",
      "C:\\Users\\shubh\\AppData\\Local\\Temp\\ipykernel_20300\\377082265.py:45: FutureWarning: The frame.append method is deprecated and will be removed from pandas in a future version. Use pandas.concat instead.\n",
      "  final=final.append(df,ignore_index=True)\n",
      "C:\\Users\\shubh\\AppData\\Local\\Temp\\ipykernel_20300\\377082265.py:45: FutureWarning: The frame.append method is deprecated and will be removed from pandas in a future version. Use pandas.concat instead.\n",
      "  final=final.append(df,ignore_index=True)\n",
      "C:\\Users\\shubh\\AppData\\Local\\Temp\\ipykernel_20300\\377082265.py:45: FutureWarning: The frame.append method is deprecated and will be removed from pandas in a future version. Use pandas.concat instead.\n",
      "  final=final.append(df,ignore_index=True)\n",
      "C:\\Users\\shubh\\AppData\\Local\\Temp\\ipykernel_20300\\377082265.py:45: FutureWarning: The frame.append method is deprecated and will be removed from pandas in a future version. Use pandas.concat instead.\n",
      "  final=final.append(df,ignore_index=True)\n",
      "C:\\Users\\shubh\\AppData\\Local\\Temp\\ipykernel_20300\\377082265.py:45: FutureWarning: The frame.append method is deprecated and will be removed from pandas in a future version. Use pandas.concat instead.\n",
      "  final=final.append(df,ignore_index=True)\n",
      "C:\\Users\\shubh\\AppData\\Local\\Temp\\ipykernel_20300\\377082265.py:45: FutureWarning: The frame.append method is deprecated and will be removed from pandas in a future version. Use pandas.concat instead.\n",
      "  final=final.append(df,ignore_index=True)\n"
     ]
    }
   ],
   "source": [
    "final=pd.DataFrame()\n",
    "for j in range(1,69):\n",
    "    headers={'User-Agent':'Mozilla/5.0 (Windows NT 6.3; Win 64 ; x64) Apple WeKit /537.36(KHTML , like Gecko) Chrome/80.0.3987.162 Safari/537.36'}\n",
    "    webpage=requests.get(f\"https://www.ambitionbox.com/list-of-companies?page={j}\",headers=headers).text\n",
    "    soup=BeautifulSoup(webpage,'lxml')\n",
    "    name=[]\n",
    "    for a in soup.find_all('h2',class_=\"companyCardWrapper__companyName\"):\n",
    "        name.append(a.text.strip())\n",
    "    rating=[]\n",
    "    for i in soup.find_all('span',class_='companyCardWrapper__companyRatingValue'):\n",
    "        rating.append(float(i.text))\n",
    "    \n",
    "    service=[]\n",
    "    employees=[]\n",
    "    old=[]\n",
    "    city=[]\n",
    "    for i in soup.find_all('span',class_=\"companyCardWrapper__interLinking\"):\n",
    "            temp=i.text.strip().split('|')\n",
    "            try:\n",
    "                service.append(temp[0])\n",
    "            except:\n",
    "                service.append(np.nan)\n",
    "            try:\n",
    "                employees.append(temp[1])\n",
    "            except:\n",
    "                employees.append(np.nan) \n",
    "            try:\n",
    "                old.append(temp[-2])\n",
    "            except:\n",
    "                old.append(np.nan) \n",
    "            try:\n",
    "                city.append(temp[-1].split('+')[0].strip())\n",
    "            except:\n",
    "                city.append(np.nan) \n",
    "    \n",
    "    dic={\n",
    "        \"name\":name,\n",
    "        \"rating\":rating,\n",
    "        \"service\":service,\n",
    "        \"No of employees\":employees,\n",
    "        \"Company Age\":old,\n",
    "        \"Location\":city\n",
    "    }\n",
    "    df=pd.DataFrame(dic)\n",
    "    final=final.append(df,ignore_index=True)\n",
    "        \n"
   ]
  },
  {
   "cell_type": "code",
   "execution_count": 59,
   "id": "9030312f",
   "metadata": {},
   "outputs": [],
   "source": [
    "final.to_csv(\"company.csv\",index=False)"
   ]
  },
  {
   "cell_type": "code",
   "execution_count": 6,
   "id": "654234db",
   "metadata": {},
   "outputs": [],
   "source": [
    "headers={'User-Agent':'Mozilla/5.0 (Windows NT 6.3; Win 64 ; x64) Apple WeKit /537.36(KHTML , like Gecko) Chrome/80.0.3987.162 Safari/537.36'}\n",
    "webpage=requests.get(\"https://www.ambitionbox.com/list-of-companies?page=6\",headers=headers).text"
   ]
  },
  {
   "cell_type": "code",
   "execution_count": 9,
   "id": "fe81c940",
   "metadata": {},
   "outputs": [],
   "source": [
    "soup=BeautifulSoup(webpage,'lxml')"
   ]
  },
  {
   "cell_type": "code",
   "execution_count": 12,
   "id": "f4821490",
   "metadata": {},
   "outputs": [],
   "source": [
    "company=soup.find_all('div',class_=\"companyCardWrapper\")"
   ]
  },
  {
   "cell_type": "code",
   "execution_count": 26,
   "id": "b8c40133",
   "metadata": {},
   "outputs": [
    {
     "data": {
      "text/plain": [
       "['TCS',\n",
       " 'Accenture',\n",
       " 'Cognizant',\n",
       " 'Wipro',\n",
       " 'ICICI Bank',\n",
       " 'HDFC Bank',\n",
       " 'Infosys',\n",
       " 'Capgemini',\n",
       " 'Tech Mahindra',\n",
       " 'Genpact',\n",
       " 'HCLTech',\n",
       " 'Axis Bank',\n",
       " 'Concentrix Corporation',\n",
       " 'IBM',\n",
       " 'Amazon',\n",
       " 'Reliance Jio',\n",
       " 'Larsen & Toubro Limited',\n",
       " 'HDB Financial Services',\n",
       " 'Reliance Retail',\n",
       " 'Teleperformance']"
      ]
     },
     "execution_count": 26,
     "metadata": {},
     "output_type": "execute_result"
    }
   ],
   "source": [
    "name=[]\n",
    "for a in soup.find_all('h2',class_=\"companyCardWrapper__companyName\"):\n",
    "    name.append(a.text.strip())\n",
    "\n",
    "name"
   ]
  },
  {
   "cell_type": "code",
   "execution_count": 46,
   "id": "a2739805",
   "metadata": {},
   "outputs": [
    {
     "data": {
      "text/plain": [
       "20"
      ]
     },
     "execution_count": 46,
     "metadata": {},
     "output_type": "execute_result"
    }
   ],
   "source": [
    "rating=[]\n",
    "for i in soup.find_all('span',class_='companyCardWrapper__companyRatingValue'):\n",
    "    rating.append(float(i.text))\n",
    "#     rating(i.text.strip())\n",
    "len(rating)"
   ]
  },
  {
   "cell_type": "code",
   "execution_count": 48,
   "id": "404044f7",
   "metadata": {},
   "outputs": [],
   "source": [
    "f=0\n",
    "service=[]\n",
    "employees=[]\n",
    "old=[]\n",
    "city=[]\n",
    "for i in soup.find_all('span',class_=\"companyCardWrapper__interLinking\"):\n",
    "        temp=i.text.strip().split('|')\n",
    "        try:\n",
    "            service.append(temp[0])\n",
    "        except:\n",
    "            service.append(np.nan)\n",
    "        try:\n",
    "            employees.append(temp[1])\n",
    "        except:\n",
    "            employees.append(np.nan) \n",
    "        try:\n",
    "            old.append(temp[-2])\n",
    "        except:\n",
    "            old.append(np.nan) \n",
    "        try:\n",
    "            city.append(temp[-1].split('+')[0].strip())\n",
    "        except:\n",
    "            city.append(np.nan) \n",
    "        \n",
    "        \n",
    "\n",
    "        "
   ]
  },
  {
   "cell_type": "code",
   "execution_count": 49,
   "id": "28c0b761",
   "metadata": {},
   "outputs": [
    {
     "data": {
      "text/plain": [
       "['IT Services & Consulting ',\n",
       " 'IT Services & Consulting ',\n",
       " 'IT Services & Consulting ',\n",
       " 'IT Services & Consulting ',\n",
       " 'Banking ',\n",
       " 'Banking ',\n",
       " 'IT Services & Consulting ',\n",
       " 'IT Services & Consulting ',\n",
       " 'IT Services & Consulting ',\n",
       " 'IT Services & Consulting ',\n",
       " 'IT Services & Consulting ',\n",
       " 'Banking ',\n",
       " 'BPO ',\n",
       " 'Software Product ',\n",
       " 'Internet ',\n",
       " 'Telecom ',\n",
       " 'Engineering & Construction ',\n",
       " 'NBFC ',\n",
       " 'Retail ',\n",
       " 'BPO ']"
      ]
     },
     "execution_count": 49,
     "metadata": {},
     "output_type": "execute_result"
    }
   ],
   "source": [
    "service"
   ]
  },
  {
   "cell_type": "code",
   "execution_count": 50,
   "id": "f4e893a4",
   "metadata": {},
   "outputs": [
    {
     "data": {
      "text/plain": [
       "[' 1 Lakh+ Employees ',\n",
       " ' 1 Lakh+ Employees ',\n",
       " ' 1 Lakh+ Employees ',\n",
       " ' 1 Lakh+ Employees ',\n",
       " ' 1 Lakh+ Employees ',\n",
       " ' 1 Lakh+ Employees ',\n",
       " ' 1 Lakh+ Employees ',\n",
       " ' 1 Lakh+ Employees ',\n",
       " ' 1 Lakh+ Employees ',\n",
       " ' 50k-1 Lakh Employees ',\n",
       " ' 1 Lakh+ Employees ',\n",
       " ' 50k-1 Lakh Employees ',\n",
       " ' 10k-50k Employees ',\n",
       " ' 50k-1 Lakh Employees ',\n",
       " ' 1 Lakh+ Employees ',\n",
       " ' 50k-1 Lakh Employees ',\n",
       " ' 1 Lakh+ Employees ',\n",
       " ' 10k-50k Employees ',\n",
       " ' 1 Lakh+ Employees ',\n",
       " ' 10k-50k Employees ']"
      ]
     },
     "execution_count": 50,
     "metadata": {},
     "output_type": "execute_result"
    }
   ],
   "source": [
    "employees"
   ]
  },
  {
   "cell_type": "code",
   "execution_count": 51,
   "id": "eed9b044",
   "metadata": {},
   "outputs": [
    {
     "data": {
      "text/plain": [
       "[' 55 years old ',\n",
       " ' 34 years old ',\n",
       " ' 29 years old ',\n",
       " ' 78 years old ',\n",
       " ' 29 years old ',\n",
       " ' 29 years old ',\n",
       " ' 42 years old ',\n",
       " ' 56 years old ',\n",
       " ' 37 years old ',\n",
       " ' 26 years old ',\n",
       " ' 32 years old ',\n",
       " ' 30 years old ',\n",
       " ' 40 years old ',\n",
       " ' 112 years old ',\n",
       " ' 29 years old ',\n",
       " ' 16 years old ',\n",
       " ' 85 years old ',\n",
       " ' 16 years old ',\n",
       " ' 17 years old ',\n",
       " ' 45 years old ']"
      ]
     },
     "execution_count": 51,
     "metadata": {},
     "output_type": "execute_result"
    }
   ],
   "source": [
    "old"
   ]
  },
  {
   "cell_type": "code",
   "execution_count": 52,
   "id": "cc0d7c1a",
   "metadata": {},
   "outputs": [
    {
     "data": {
      "text/plain": [
       "['Mumbai',\n",
       " 'Dublin',\n",
       " 'Teaneck. New Jersey.',\n",
       " 'Bangalore/Bengaluru',\n",
       " 'Mumbai',\n",
       " 'Mumbai',\n",
       " 'Bengaluru/Bangalore',\n",
       " 'Paris',\n",
       " 'Pune',\n",
       " 'New York',\n",
       " 'Noida',\n",
       " 'Mumbai',\n",
       " 'Fremont',\n",
       " 'Armonk',\n",
       " 'Seattle',\n",
       " 'Navi Mumbai',\n",
       " 'Mumbai',\n",
       " 'Ahmedabad',\n",
       " 'Navi Mumbai',\n",
       " 'Paris']"
      ]
     },
     "execution_count": 52,
     "metadata": {},
     "output_type": "execute_result"
    }
   ],
   "source": [
    "city"
   ]
  },
  {
   "cell_type": "code",
   "execution_count": null,
   "id": "d50e3528",
   "metadata": {},
   "outputs": [],
   "source": []
  }
 ],
 "metadata": {
  "kernelspec": {
   "display_name": "Python 3 (ipykernel)",
   "language": "python",
   "name": "python3"
  },
  "language_info": {
   "codemirror_mode": {
    "name": "ipython",
    "version": 3
   },
   "file_extension": ".py",
   "mimetype": "text/x-python",
   "name": "python",
   "nbconvert_exporter": "python",
   "pygments_lexer": "ipython3",
   "version": "3.11.4"
  }
 },
 "nbformat": 4,
 "nbformat_minor": 5
}
