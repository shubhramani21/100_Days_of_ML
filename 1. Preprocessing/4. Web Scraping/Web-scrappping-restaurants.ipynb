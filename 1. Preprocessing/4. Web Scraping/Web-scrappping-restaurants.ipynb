{
 "cells": [
  {
   "cell_type": "code",
   "execution_count": 1,
   "id": "9f706a71",
   "metadata": {},
   "outputs": [],
   "source": [
    "import pandas as pd\n",
    "import numpy as np\n",
    "import requests\n",
    "from bs4 import BeautifulSoup"
   ]
  },
  {
   "cell_type": "code",
   "execution_count": 187,
   "id": "a7c9c382",
   "metadata": {},
   "outputs": [
    {
     "name": "stderr",
     "output_type": "stream",
     "text": [
      "C:\\Users\\shubh\\AppData\\Local\\Temp\\ipykernel_28032\\1677938575.py:40: FutureWarning: The frame.append method is deprecated and will be removed from pandas in a future version. Use pandas.concat instead.\n",
      "  final=final.append(df,ignore_index=True)\n"
     ]
    },
    {
     "name": "stdout",
     "output_type": "stream",
     "text": [
      "Page:  1\n"
     ]
    },
    {
     "name": "stderr",
     "output_type": "stream",
     "text": [
      "C:\\Users\\shubh\\AppData\\Local\\Temp\\ipykernel_28032\\1677938575.py:40: FutureWarning: The frame.append method is deprecated and will be removed from pandas in a future version. Use pandas.concat instead.\n",
      "  final=final.append(df,ignore_index=True)\n"
     ]
    },
    {
     "name": "stdout",
     "output_type": "stream",
     "text": [
      "Page:  2\n"
     ]
    },
    {
     "name": "stderr",
     "output_type": "stream",
     "text": [
      "C:\\Users\\shubh\\AppData\\Local\\Temp\\ipykernel_28032\\1677938575.py:40: FutureWarning: The frame.append method is deprecated and will be removed from pandas in a future version. Use pandas.concat instead.\n",
      "  final=final.append(df,ignore_index=True)\n"
     ]
    },
    {
     "name": "stdout",
     "output_type": "stream",
     "text": [
      "Page:  3\n"
     ]
    },
    {
     "name": "stderr",
     "output_type": "stream",
     "text": [
      "C:\\Users\\shubh\\AppData\\Local\\Temp\\ipykernel_28032\\1677938575.py:40: FutureWarning: The frame.append method is deprecated and will be removed from pandas in a future version. Use pandas.concat instead.\n",
      "  final=final.append(df,ignore_index=True)\n"
     ]
    },
    {
     "name": "stdout",
     "output_type": "stream",
     "text": [
      "Page:  4\n"
     ]
    },
    {
     "name": "stderr",
     "output_type": "stream",
     "text": [
      "C:\\Users\\shubh\\AppData\\Local\\Temp\\ipykernel_28032\\1677938575.py:40: FutureWarning: The frame.append method is deprecated and will be removed from pandas in a future version. Use pandas.concat instead.\n",
      "  final=final.append(df,ignore_index=True)\n"
     ]
    },
    {
     "name": "stdout",
     "output_type": "stream",
     "text": [
      "Page:  5\n"
     ]
    },
    {
     "ename": "AttributeError",
     "evalue": "'NoneType' object has no attribute 'text'",
     "output_type": "error",
     "traceback": [
      "\u001b[1;31m---------------------------------------------------------------------------\u001b[0m",
      "\u001b[1;31mAttributeError\u001b[0m                            Traceback (most recent call last)",
      "Cell \u001b[1;32mIn[187], line 29\u001b[0m\n\u001b[0;32m     26\u001b[0m     k\u001b[38;5;241m=\u001b[39m\u001b[38;5;241m0\u001b[39m\n\u001b[0;32m     27\u001b[0m     \u001b[38;5;28;01mfor\u001b[39;00m j \u001b[38;5;129;01min\u001b[39;00m rest:\n\u001b[0;32m     28\u001b[0m \u001b[38;5;66;03m#         try:\u001b[39;00m\n\u001b[1;32m---> 29\u001b[0m         rating\u001b[38;5;241m.\u001b[39mappend(\u001b[38;5;28mfloat\u001b[39m(j\u001b[38;5;241m.\u001b[39mfind(\u001b[38;5;124m\"\u001b[39m\u001b[38;5;124mdiv\u001b[39m\u001b[38;5;124m\"\u001b[39m,array[k])\u001b[38;5;241m.\u001b[39mtext))\n\u001b[0;32m     30\u001b[0m \u001b[38;5;66;03m#         except:\u001b[39;00m\n\u001b[0;32m     31\u001b[0m \u001b[38;5;66;03m#             rating.append(np.nan)\u001b[39;00m\n\u001b[0;32m     32\u001b[0m     \u001b[38;5;66;03m#     print(array[k])\u001b[39;00m\n\u001b[0;32m     33\u001b[0m         k\u001b[38;5;241m+\u001b[39m\u001b[38;5;241m=\u001b[39m\u001b[38;5;241m1\u001b[39m\n",
      "\u001b[1;31mAttributeError\u001b[0m: 'NoneType' object has no attribute 'text'"
     ]
    }
   ],
   "source": [
    "final=pd.DataFrame()\n",
    "df=pd.DataFrame()\n",
    "page=1\n",
    "for i in range(1,11):\n",
    "    headers={'User-Agent':'Mozilla/5.0 (Windows NT 6.3; Win 64 ; x64) Apple WeKit /537.36(KHTML , like Gecko) Chrome/80.0.3987.162 Safari/537.36'}\n",
    "    url=f\"https://www.dineout.co.in/nagpur-restaurants?p={i}\"\n",
    "    webpage=requests.get(url,headers=headers).text\n",
    "    \n",
    "    soup=BeautifulSoup(webpage,'lxml')\n",
    "    partial_class_name=['restnt-rating','restnt-card restaurant']\n",
    "    \n",
    "    rating_elements=soup.select(f'[class*=\"{partial_class_name[0]}\"]') \n",
    "    \n",
    "    rest=soup.select(f'[class*=\"{partial_class_name[1]}\"]')\n",
    "    \n",
    "    # rest_demo=soup.select(f'[class*={partial_class_name[1]}])\n",
    "    rating=[]\n",
    "    array=[]\n",
    "    for i in rating_elements:\n",
    "            class_element=i['class']\n",
    "            if 'restnt-rating-widget' not in class_element and 'hide' not in class_element:\n",
    "                    cla=class_element[0]+\" \"+class_element[1]\n",
    "                    array.append(cla)\n",
    "\n",
    "\n",
    "    k=0\n",
    "    for j in rest:\n",
    "#         try:\n",
    "        rating.append(float(j.find(\"div\",array[k]).text))\n",
    "#         except:\n",
    "#             rating.append(np.nan)\n",
    "    #     print(array[k])\n",
    "        k+=1\n",
    "    \n",
    "    dic={\n",
    "        'Rating':rating\n",
    "    }\n",
    "    \n",
    "    df=pd.DataFrame(dic)\n",
    "    final=final.append(df,ignore_index=True)\n",
    "    print(\"Page: \",page)\n",
    "    page+=1\n",
    "    \n",
    "final"
   ]
  },
  {
   "cell_type": "code",
   "execution_count": 184,
   "id": "82aad466",
   "metadata": {},
   "outputs": [
    {
     "data": {
      "text/html": [
       "<div>\n",
       "<style scoped>\n",
       "    .dataframe tbody tr th:only-of-type {\n",
       "        vertical-align: middle;\n",
       "    }\n",
       "\n",
       "    .dataframe tbody tr th {\n",
       "        vertical-align: top;\n",
       "    }\n",
       "\n",
       "    .dataframe thead th {\n",
       "        text-align: right;\n",
       "    }\n",
       "</style>\n",
       "<table border=\"1\" class=\"dataframe\">\n",
       "  <thead>\n",
       "    <tr style=\"text-align: right;\">\n",
       "      <th></th>\n",
       "      <th>Rating</th>\n",
       "    </tr>\n",
       "  </thead>\n",
       "  <tbody>\n",
       "    <tr>\n",
       "      <th>0</th>\n",
       "      <td>4.4</td>\n",
       "    </tr>\n",
       "    <tr>\n",
       "      <th>1</th>\n",
       "      <td>5.0</td>\n",
       "    </tr>\n",
       "    <tr>\n",
       "      <th>2</th>\n",
       "      <td>5.0</td>\n",
       "    </tr>\n",
       "    <tr>\n",
       "      <th>3</th>\n",
       "      <td>3.9</td>\n",
       "    </tr>\n",
       "    <tr>\n",
       "      <th>4</th>\n",
       "      <td>3.8</td>\n",
       "    </tr>\n",
       "    <tr>\n",
       "      <th>...</th>\n",
       "      <td>...</td>\n",
       "    </tr>\n",
       "    <tr>\n",
       "      <th>16</th>\n",
       "      <td>NaN</td>\n",
       "    </tr>\n",
       "    <tr>\n",
       "      <th>17</th>\n",
       "      <td>NaN</td>\n",
       "    </tr>\n",
       "    <tr>\n",
       "      <th>18</th>\n",
       "      <td>NaN</td>\n",
       "    </tr>\n",
       "    <tr>\n",
       "      <th>19</th>\n",
       "      <td>NaN</td>\n",
       "    </tr>\n",
       "    <tr>\n",
       "      <th>20</th>\n",
       "      <td>NaN</td>\n",
       "    </tr>\n",
       "  </tbody>\n",
       "</table>\n",
       "<p>210 rows × 1 columns</p>\n",
       "</div>"
      ],
      "text/plain": [
       "    Rating\n",
       "0      4.4\n",
       "1      5.0\n",
       "2      5.0\n",
       "3      3.9\n",
       "4      3.8\n",
       "..     ...\n",
       "16     NaN\n",
       "17     NaN\n",
       "18     NaN\n",
       "19     NaN\n",
       "20     NaN\n",
       "\n",
       "[210 rows x 1 columns]"
      ]
     },
     "execution_count": 184,
     "metadata": {},
     "output_type": "execute_result"
    }
   ],
   "source": [
    "final"
   ]
  },
  {
   "cell_type": "code",
   "execution_count": 205,
   "id": "3a7b270d",
   "metadata": {},
   "outputs": [],
   "source": [
    "headers={'User-Agent':'Mozilla/5.0 (Windows NT 6.3; Win 64 ; x64) Apple WeKit /537.36(KHTML , like Gecko) Chrome/80.0.3987.162 Safari/537.36'}\n",
    "url=\"https://www.dineout.co.in/nagpur-restaurants?p=6\"\n",
    "webpage=requests.get(url,headers=headers).text"
   ]
  },
  {
   "cell_type": "code",
   "execution_count": 206,
   "id": "afdce9f1",
   "metadata": {},
   "outputs": [],
   "source": [
    "soup=BeautifulSoup(webpage,'lxml')"
   ]
  },
  {
   "cell_type": "code",
   "execution_count": 207,
   "id": "2233792c",
   "metadata": {},
   "outputs": [],
   "source": [
    "partial_class_name=['restnt-rating','restnt-card restaurant']"
   ]
  },
  {
   "cell_type": "code",
   "execution_count": 236,
   "id": "d3dc50e5",
   "metadata": {},
   "outputs": [
    {
     "data": {
      "text/plain": [
       "[<div class=\"restnt-rating rating-4\">4.1</div>,\n",
       " <div class=\"restnt-rating-widget pull-right text-right\"><div class=\"restnt-rating rating-4 hide\">4.3</div><div class=\"rating-txt hide\">232 votes</div></div>,\n",
       " <div class=\"restnt-rating rating-4 hide\">4.3</div>,\n",
       " <div class=\"restnt-rating rating-4\">4</div>,\n",
       " <div class=\"restnt-rating-widget pull-right text-right\"><div class=\"restnt-rating rating-4 hide\">4.3</div><div class=\"rating-txt hide\">232 votes</div></div>,\n",
       " <div class=\"restnt-rating rating-4 hide\">4.3</div>,\n",
       " <div class=\"restnt-rating rating-4\">4.2</div>,\n",
       " <div class=\"restnt-rating-widget pull-right text-right\"><div class=\"restnt-rating rating-4 hide\">4.3</div><div class=\"rating-txt hide\">232 votes</div></div>,\n",
       " <div class=\"restnt-rating rating-4 hide\">4.3</div>,\n",
       " <div class=\"restnt-rating rating-2\">2.3</div>,\n",
       " <div class=\"restnt-rating-widget pull-right text-right\"><div class=\"restnt-rating rating-4 hide\">4.3</div><div class=\"rating-txt hide\">232 votes</div></div>,\n",
       " <div class=\"restnt-rating rating-4 hide\">4.3</div>,\n",
       " <div class=\"restnt-rating rating-4\">3.9</div>,\n",
       " <div class=\"restnt-rating-widget pull-right text-right\"><div class=\"restnt-rating rating-4 hide\">4.3</div><div class=\"rating-txt hide\">232 votes</div></div>,\n",
       " <div class=\"restnt-rating rating-4 hide\">4.3</div>,\n",
       " <div class=\"restnt-rating rating-2\">2.1</div>,\n",
       " <div class=\"restnt-rating-widget pull-right text-right\"><div class=\"restnt-rating rating-4 hide\">4.3</div><div class=\"rating-txt hide\">232 votes</div></div>,\n",
       " <div class=\"restnt-rating rating-4 hide\">4.3</div>,\n",
       " <div class=\"restnt-rating rating-2\">2.3</div>,\n",
       " <div class=\"restnt-rating-widget pull-right text-right\"><div class=\"restnt-rating rating-4 hide\">4.3</div><div class=\"rating-txt hide\">232 votes</div></div>,\n",
       " <div class=\"restnt-rating rating-4 hide\">4.3</div>,\n",
       " <div class=\"restnt-rating rating-4\">3.7</div>,\n",
       " <div class=\"restnt-rating-widget pull-right text-right\"><div class=\"restnt-rating rating-4 hide\">4.3</div><div class=\"rating-txt hide\">232 votes</div></div>,\n",
       " <div class=\"restnt-rating rating-4 hide\">4.3</div>,\n",
       " <div class=\"restnt-rating-widget pull-right text-right\"><div class=\"restnt-rating rating-4 hide\">4.3</div><div class=\"rating-txt hide\">232 votes</div></div>,\n",
       " <div class=\"restnt-rating rating-4 hide\">4.3</div>,\n",
       " <div class=\"restnt-rating rating-4\">3.9</div>,\n",
       " <div class=\"restnt-rating-widget pull-right text-right\"><div class=\"restnt-rating rating-4 hide\">4.3</div><div class=\"rating-txt hide\">232 votes</div></div>,\n",
       " <div class=\"restnt-rating rating-4 hide\">4.3</div>,\n",
       " <div class=\"restnt-rating rating-4\">3.5</div>,\n",
       " <div class=\"restnt-rating-widget pull-right text-right\"><div class=\"restnt-rating rating-4 hide\">4.3</div><div class=\"rating-txt hide\">232 votes</div></div>,\n",
       " <div class=\"restnt-rating rating-4 hide\">4.3</div>,\n",
       " <div class=\"restnt-rating rating-4\">3.9</div>,\n",
       " <div class=\"restnt-rating-widget pull-right text-right\"><div class=\"restnt-rating rating-4 hide\">4.3</div><div class=\"rating-txt hide\">232 votes</div></div>,\n",
       " <div class=\"restnt-rating rating-4 hide\">4.3</div>,\n",
       " <div class=\"restnt-rating-widget pull-right text-right\"><div class=\"restnt-rating rating-4 hide\">4.3</div><div class=\"rating-txt hide\">232 votes</div></div>,\n",
       " <div class=\"restnt-rating rating-4 hide\">4.3</div>,\n",
       " <div class=\"restnt-rating rating-3\">3.3</div>,\n",
       " <div class=\"restnt-rating-widget pull-right text-right\"><div class=\"restnt-rating rating-4 hide\">4.3</div><div class=\"rating-txt hide\">232 votes</div></div>,\n",
       " <div class=\"restnt-rating rating-4 hide\">4.3</div>,\n",
       " <div class=\"restnt-rating rating-3\">3</div>,\n",
       " <div class=\"restnt-rating-widget pull-right text-right\"><div class=\"restnt-rating rating-4 hide\">4.3</div><div class=\"rating-txt hide\">232 votes</div></div>,\n",
       " <div class=\"restnt-rating rating-4 hide\">4.3</div>,\n",
       " <div class=\"restnt-rating rating-3\">3</div>,\n",
       " <div class=\"restnt-rating-widget pull-right text-right\"><div class=\"restnt-rating rating-4 hide\">4.3</div><div class=\"rating-txt hide\">232 votes</div></div>,\n",
       " <div class=\"restnt-rating rating-4 hide\">4.3</div>,\n",
       " <div class=\"restnt-rating-widget pull-right text-right\"><div class=\"restnt-rating rating-4 hide\">4.3</div><div class=\"rating-txt hide\">232 votes</div></div>,\n",
       " <div class=\"restnt-rating rating-4 hide\">4.3</div>,\n",
       " <div class=\"restnt-rating rating-4\">3.9</div>,\n",
       " <div class=\"restnt-rating-widget pull-right text-right\"><div class=\"restnt-rating rating-4 hide\">4.3</div><div class=\"rating-txt hide\">232 votes</div></div>,\n",
       " <div class=\"restnt-rating rating-4 hide\">4.3</div>,\n",
       " <div class=\"restnt-rating rating-3\">3</div>,\n",
       " <div class=\"restnt-rating-widget pull-right text-right\"><div class=\"restnt-rating rating-4 hide\">4.3</div><div class=\"rating-txt hide\">232 votes</div></div>,\n",
       " <div class=\"restnt-rating rating-4 hide\">4.3</div>,\n",
       " <div class=\"restnt-rating-widget pull-right text-right\"><div class=\"restnt-rating rating-4 hide\">4.3</div><div class=\"rating-txt hide\">232 votes</div></div>,\n",
       " <div class=\"restnt-rating rating-4 hide\">4.3</div>,\n",
       " <div class=\"restnt-rating-widget pull-right text-right\"><div class=\"restnt-rating rating-4 hide\">4.3</div><div class=\"rating-txt hide\">232 votes</div></div>,\n",
       " <div class=\"restnt-rating rating-4 hide\">4.3</div>]"
      ]
     },
     "execution_count": 236,
     "metadata": {},
     "output_type": "execute_result"
    }
   ],
   "source": [
    "rating_elements=soup.select(f'[class*=\"{partial_class_name[0]}\"]')\n",
    "rating_elements"
   ]
  },
  {
   "cell_type": "code",
   "execution_count": 239,
   "id": "3e976186",
   "metadata": {},
   "outputs": [
    {
     "data": {
      "text/plain": [
       "21"
      ]
     },
     "execution_count": 239,
     "metadata": {},
     "output_type": "execute_result"
    }
   ],
   "source": [
    "restaurants=soup.select(f'[class*=\"{partial_class_name[1]}\"]')\n",
    "len(restaurants)"
   ]
  },
  {
   "cell_type": "code",
   "execution_count": 204,
   "id": "9f679c45",
   "metadata": {},
   "outputs": [
    {
     "name": "stdout",
     "output_type": "stream",
     "text": [
      "restnt-rating rating-4\n",
      "restnt-rating rating-4\n",
      "restnt-rating rating-4\n",
      "restnt-rating rating-2\n",
      "restnt-rating rating-4\n",
      "restnt-rating rating-2\n",
      "restnt-rating rating-2\n",
      "restnt-rating rating-4\n",
      "restnt-rating rating-4\n",
      "restnt-rating rating-4\n",
      "restnt-rating rating-4\n",
      "restnt-rating rating-3\n",
      "restnt-rating rating-3\n",
      "restnt-rating rating-3\n",
      "restnt-rating rating-4\n",
      "restnt-rating rating-3\n"
     ]
    },
    {
     "data": {
      "text/plain": [
       "['restnt-rating rating-4',\n",
       " nan,\n",
       " 'restnt-rating rating-4',\n",
       " nan,\n",
       " 'restnt-rating rating-4',\n",
       " nan,\n",
       " 'restnt-rating rating-2',\n",
       " nan,\n",
       " 'restnt-rating rating-4',\n",
       " nan,\n",
       " 'restnt-rating rating-2',\n",
       " nan,\n",
       " 'restnt-rating rating-2',\n",
       " nan,\n",
       " 'restnt-rating rating-4',\n",
       " nan,\n",
       " 'restnt-rating rating-4',\n",
       " nan,\n",
       " 'restnt-rating rating-4',\n",
       " nan,\n",
       " 'restnt-rating rating-4',\n",
       " nan,\n",
       " 'restnt-rating rating-3',\n",
       " nan,\n",
       " 'restnt-rating rating-3',\n",
       " nan,\n",
       " 'restnt-rating rating-3',\n",
       " nan,\n",
       " 'restnt-rating rating-4',\n",
       " nan,\n",
       " 'restnt-rating rating-3',\n",
       " nan]"
      ]
     },
     "execution_count": 204,
     "metadata": {},
     "output_type": "execute_result"
    }
   ],
   "source": [
    "# rest_demo=soup.select(f'[class*={partial_class_name[1]}])\n",
    "rating=[]\n",
    "array=[]\n",
    "n=1\n",
    "cheak=False\n",
    "for j in restaurants:\n",
    "    rating_element=select(f'class*={}')\n",
    "    for i in rating_elements:\n",
    "            class_element=i['class']\n",
    "\n",
    "            if 'restnt-rating-widget' not in class_element and 'hide' not in class_element:\n",
    "                    cla=class_element[0]+\" \"+class_element[1]\n",
    "                    array.append(cla)\n",
    "                    print(cla)\n",
    "                    cheak=True\n",
    "                    n+=1\n",
    "            \n",
    "    \n",
    "\n",
    "# k=0\n",
    "# for j in rest:\n",
    "#     print(k)\n",
    "#     rating.append(float(j.find(\"div\",array[k]).text))\n",
    "# #     print(array[k])\n",
    "#     k+=1\n",
    "array"
   ]
  },
  {
   "cell_type": "code",
   "execution_count": null,
   "id": "b784e389",
   "metadata": {},
   "outputs": [],
   "source": [
    "restaurants[0].find('div',class_=\"restnt-rating rating-4\").text\n",
    "restaurants[1].find('div',class_=\"restnt-rating rating-4\").text\n",
    "\n",
    "\n",
    "\n",
    "\n",
    "for restaurant in restaurants:\n",
    "    rating_found = False\n",
    "    \n",
    "    for i in range(1, 6):  # Assuming ratings are in the range of 1 to 5\n",
    "        rating_element = restaurant.find('div', class_=f\"restnt-rating rating-{i}\")\n",
    "        \n",
    "        if rating_element:\n",
    "            print(\"Rating:\", rating_element.text)\n",
    "            rating_found = True\n",
    "            break  # Exit the loop once rating is found\n",
    "    \n",
    "    if not rating_found:\n",
    "        print(\"No rating found for this restaurant\")\n",
    "\n",
    "            \n",
    "            "
   ]
  },
  {
   "cell_type": "code",
   "execution_count": 216,
   "id": "35f426e0",
   "metadata": {},
   "outputs": [
    {
     "data": {
      "text/plain": [
       "['restnt-rating', 'rating-4']"
      ]
     },
     "execution_count": 216,
     "metadata": {},
     "output_type": "execute_result"
    }
   ],
   "source": [
    " rating_elements[0]['class']"
   ]
  },
  {
   "cell_type": "code",
   "execution_count": 229,
   "id": "5ac89d1c",
   "metadata": {},
   "outputs": [
    {
     "data": {
      "text/plain": [
       "<div class=\"restnt-rating rating-4\">4.1</div>"
      ]
     },
     "execution_count": 229,
     "metadata": {},
     "output_type": "execute_result"
    }
   ],
   "source": [
    "restaurants[0].find('div',class_='restnt-rating rating-4')"
   ]
  },
  {
   "cell_type": "code",
   "execution_count": 242,
   "id": "7baecf48",
   "metadata": {},
   "outputs": [],
   "source": [
    "for i in "
   ]
  },
  {
   "cell_type": "code",
   "execution_count": null,
   "id": "c05dc5a4",
   "metadata": {},
   "outputs": [],
   "source": []
  }
 ],
 "metadata": {
  "kernelspec": {
   "display_name": "Python 3 (ipykernel)",
   "language": "python",
   "name": "python3"
  },
  "language_info": {
   "codemirror_mode": {
    "name": "ipython",
    "version": 3
   },
   "file_extension": ".py",
   "mimetype": "text/x-python",
   "name": "python",
   "nbconvert_exporter": "python",
   "pygments_lexer": "ipython3",
   "version": "3.11.4"
  }
 },
 "nbformat": 4,
 "nbformat_minor": 5
}
