{
 "cells": [
  {
   "cell_type": "code",
   "execution_count": 1,
   "metadata": {
    "executionInfo": {
     "elapsed": 845,
     "status": "ok",
     "timestamp": 1691762660544,
     "user": {
      "displayName": "shubh ramani",
      "userId": "04827806432968508212"
     },
     "user_tz": -330
    },
    "id": "SR6yIHwo6UgG"
   },
   "outputs": [],
   "source": [
    "import pandas as pd\n",
    "import numpy as np\n",
    "import seaborn as sns"
   ]
  },
  {
   "cell_type": "code",
   "execution_count": 11,
   "metadata": {
    "colab": {
     "base_uri": "https://localhost:8080/",
     "height": 206
    },
    "executionInfo": {
     "elapsed": 566,
     "status": "ok",
     "timestamp": 1691764982455,
     "user": {
      "displayName": "shubh ramani",
      "userId": "04827806432968508212"
     },
     "user_tz": -330
    },
    "id": "LfrvtwEa6Ysu",
    "outputId": "a02aebc4-2eba-434b-a4ff-5748ddd78350"
   },
   "outputs": [
    {
     "data": {
      "text/html": [
       "<div>\n",
       "<style scoped>\n",
       "    .dataframe tbody tr th:only-of-type {\n",
       "        vertical-align: middle;\n",
       "    }\n",
       "\n",
       "    .dataframe tbody tr th {\n",
       "        vertical-align: top;\n",
       "    }\n",
       "\n",
       "    .dataframe thead th {\n",
       "        text-align: right;\n",
       "    }\n",
       "</style>\n",
       "<table border=\"1\" class=\"dataframe\">\n",
       "  <thead>\n",
       "    <tr style=\"text-align: right;\">\n",
       "      <th></th>\n",
       "      <th>Unnamed: 0</th>\n",
       "      <th>cgpa</th>\n",
       "      <th>iq</th>\n",
       "      <th>placement</th>\n",
       "    </tr>\n",
       "  </thead>\n",
       "  <tbody>\n",
       "    <tr>\n",
       "      <th>0</th>\n",
       "      <td>0</td>\n",
       "      <td>6.8</td>\n",
       "      <td>123.0</td>\n",
       "      <td>1</td>\n",
       "    </tr>\n",
       "    <tr>\n",
       "      <th>1</th>\n",
       "      <td>1</td>\n",
       "      <td>5.9</td>\n",
       "      <td>106.0</td>\n",
       "      <td>0</td>\n",
       "    </tr>\n",
       "    <tr>\n",
       "      <th>2</th>\n",
       "      <td>2</td>\n",
       "      <td>5.3</td>\n",
       "      <td>121.0</td>\n",
       "      <td>0</td>\n",
       "    </tr>\n",
       "    <tr>\n",
       "      <th>3</th>\n",
       "      <td>3</td>\n",
       "      <td>7.4</td>\n",
       "      <td>132.0</td>\n",
       "      <td>1</td>\n",
       "    </tr>\n",
       "    <tr>\n",
       "      <th>4</th>\n",
       "      <td>4</td>\n",
       "      <td>5.8</td>\n",
       "      <td>142.0</td>\n",
       "      <td>0</td>\n",
       "    </tr>\n",
       "  </tbody>\n",
       "</table>\n",
       "</div>"
      ],
      "text/plain": [
       "   Unnamed: 0  cgpa     iq  placement\n",
       "0           0   6.8  123.0          1\n",
       "1           1   5.9  106.0          0\n",
       "2           2   5.3  121.0          0\n",
       "3           3   7.4  132.0          1\n",
       "4           4   5.8  142.0          0"
      ]
     },
     "execution_count": 11,
     "metadata": {},
     "output_type": "execute_result"
    }
   ],
   "source": [
    "df=pd.read_csv(\"placement.csv\")\n",
    "df.head()"
   ]
  },
  {
   "cell_type": "code",
   "execution_count": 12,
   "metadata": {
    "colab": {
     "base_uri": "https://localhost:8080/"
    },
    "executionInfo": {
     "elapsed": 9,
     "status": "ok",
     "timestamp": 1691764985322,
     "user": {
      "displayName": "shubh ramani",
      "userId": "04827806432968508212"
     },
     "user_tz": -330
    },
    "id": "9nxjXD_B6g6F",
    "outputId": "ed2029d4-99e3-4fb9-8a34-0f82d5353292"
   },
   "outputs": [
    {
     "data": {
      "text/plain": [
       "(100, 4)"
      ]
     },
     "execution_count": 12,
     "metadata": {},
     "output_type": "execute_result"
    }
   ],
   "source": [
    "df.shape"
   ]
  },
  {
   "cell_type": "code",
   "execution_count": 13,
   "metadata": {
    "colab": {
     "base_uri": "https://localhost:8080/",
     "height": 206
    },
    "executionInfo": {
     "elapsed": 14,
     "status": "ok",
     "timestamp": 1691764987457,
     "user": {
      "displayName": "shubh ramani",
      "userId": "04827806432968508212"
     },
     "user_tz": -330
    },
    "id": "_u_4Vgsk6vIr",
    "outputId": "0de3e7e1-3dfc-4431-d7ea-d58e372f4e95"
   },
   "outputs": [
    {
     "data": {
      "text/html": [
       "<div>\n",
       "<style scoped>\n",
       "    .dataframe tbody tr th:only-of-type {\n",
       "        vertical-align: middle;\n",
       "    }\n",
       "\n",
       "    .dataframe tbody tr th {\n",
       "        vertical-align: top;\n",
       "    }\n",
       "\n",
       "    .dataframe thead th {\n",
       "        text-align: right;\n",
       "    }\n",
       "</style>\n",
       "<table border=\"1\" class=\"dataframe\">\n",
       "  <thead>\n",
       "    <tr style=\"text-align: right;\">\n",
       "      <th></th>\n",
       "      <th>cgpa</th>\n",
       "      <th>iq</th>\n",
       "      <th>placement</th>\n",
       "    </tr>\n",
       "  </thead>\n",
       "  <tbody>\n",
       "    <tr>\n",
       "      <th>0</th>\n",
       "      <td>6.8</td>\n",
       "      <td>123.0</td>\n",
       "      <td>1</td>\n",
       "    </tr>\n",
       "    <tr>\n",
       "      <th>1</th>\n",
       "      <td>5.9</td>\n",
       "      <td>106.0</td>\n",
       "      <td>0</td>\n",
       "    </tr>\n",
       "    <tr>\n",
       "      <th>2</th>\n",
       "      <td>5.3</td>\n",
       "      <td>121.0</td>\n",
       "      <td>0</td>\n",
       "    </tr>\n",
       "    <tr>\n",
       "      <th>3</th>\n",
       "      <td>7.4</td>\n",
       "      <td>132.0</td>\n",
       "      <td>1</td>\n",
       "    </tr>\n",
       "    <tr>\n",
       "      <th>4</th>\n",
       "      <td>5.8</td>\n",
       "      <td>142.0</td>\n",
       "      <td>0</td>\n",
       "    </tr>\n",
       "  </tbody>\n",
       "</table>\n",
       "</div>"
      ],
      "text/plain": [
       "   cgpa     iq  placement\n",
       "0   6.8  123.0          1\n",
       "1   5.9  106.0          0\n",
       "2   5.3  121.0          0\n",
       "3   7.4  132.0          1\n",
       "4   5.8  142.0          0"
      ]
     },
     "execution_count": 13,
     "metadata": {},
     "output_type": "execute_result"
    }
   ],
   "source": [
    "df=df.iloc[:,1:]\n",
    "df.head()"
   ]
  },
  {
   "cell_type": "markdown",
   "metadata": {
    "id": "B5iAwDI965Xe"
   },
   "source": [
    "# **STEPS:**\n",
    "<h2>\n",
    "  <ol>\n",
    "  <li>Preprocess + EDA + Feature Selection</li>\n",
    "  <li>Extract input and output cols</li>\n",
    "  <li>Scales the values</li>\n",
    "  <li>Train test split</li>\n",
    "  <li>Train the model</li>\n",
    "  <li>Evaluate the model</li>\n",
    "  <li>Deploy the model</li>\n",
    "</ol>\n",
    "</h2>"
   ]
  },
  {
   "cell_type": "code",
   "execution_count": 14,
   "metadata": {
    "executionInfo": {
     "elapsed": 520,
     "status": "ok",
     "timestamp": 1691765098984,
     "user": {
      "displayName": "shubh ramani",
      "userId": "04827806432968508212"
     },
     "user_tz": -330
    },
    "id": "RQLWCs1A8WzF"
   },
   "outputs": [],
   "source": [
    "import matplotlib.pyplot as plt"
   ]
  },
  {
   "cell_type": "code",
   "execution_count": 16,
   "metadata": {
    "colab": {
     "base_uri": "https://localhost:8080/",
     "height": 447
    },
    "executionInfo": {
     "elapsed": 1196,
     "status": "ok",
     "timestamp": 1691765156124,
     "user": {
      "displayName": "shubh ramani",
      "userId": "04827806432968508212"
     },
     "user_tz": -330
    },
    "id": "DoHPmz5SDhZW",
    "outputId": "e6e7d5be-7c7f-4d2e-add8-b3036aeb7016"
   },
   "outputs": [
    {
     "data": {
      "text/plain": [
       "<Axes: xlabel='cgpa', ylabel='iq'>"
      ]
     },
     "execution_count": 16,
     "metadata": {},
     "output_type": "execute_result"
    },
    {
     "data": {
      "image/png": "[encoded data removed]",
      "text/plain": [
       "<Figure size 640x480 with 1 Axes>"
      ]
     },
     "metadata": {},
     "output_type": "display_data"
    }
   ],
   "source": [
    "# # EDA\n",
    "# plt.scatter(df['cgpa'],df[\"iq\"],c=df['placement'])\n",
    "sns.scatterplot(data=df,x='cgpa',y='iq',hue='placement')"
   ]
  },
  {
   "cell_type": "markdown",
   "metadata": {
    "id": "6q12y7jBGxD3"
   },
   "source": [
    "#Here we will be using logistic regeresssion\n",
    "\n",
    "\n",
    "#cgpa and iq = => independent variable\n",
    "#placement => dependent variable"
   ]
  },
  {
   "cell_type": "code",
   "execution_count": 17,
   "metadata": {
    "executionInfo": {
     "elapsed": 6,
     "status": "ok",
     "timestamp": 1691766071888,
     "user": {
      "displayName": "shubh ramani",
      "userId": "04827806432968508212"
     },
     "user_tz": -330
    },
    "id": "SXnjkrbKG1n1"
   },
   "outputs": [],
   "source": [
    "#Extract input and output cols\n",
    "x=df.iloc[:,0:2]\n",
    "y=df.iloc[:,-1]"
   ]
  },
  {
   "cell_type": "code",
   "execution_count": 18,
   "metadata": {
    "colab": {
     "base_uri": "https://localhost:8080/",
     "height": 206
    },
    "executionInfo": {
     "elapsed": 13,
     "status": "ok",
     "timestamp": 1691766078114,
     "user": {
      "displayName": "shubh ramani",
      "userId": "04827806432968508212"
     },
     "user_tz": -330
    },
    "id": "bzt4ptrUHZz7",
    "outputId": "dba1b09e-5819-415c-d8ec-dc3661a37c5a"
   },
   "outputs": [
    {
     "data": {
      "text/html": [
       "<div>\n",
       "<style scoped>\n",
       "    .dataframe tbody tr th:only-of-type {\n",
       "        vertical-align: middle;\n",
       "    }\n",
       "\n",
       "    .dataframe tbody tr th {\n",
       "        vertical-align: top;\n",
       "    }\n",
       "\n",
       "    .dataframe thead th {\n",
       "        text-align: right;\n",
       "    }\n",
       "</style>\n",
       "<table border=\"1\" class=\"dataframe\">\n",
       "  <thead>\n",
       "    <tr style=\"text-align: right;\">\n",
       "      <th></th>\n",
       "      <th>cgpa</th>\n",
       "      <th>iq</th>\n",
       "    </tr>\n",
       "  </thead>\n",
       "  <tbody>\n",
       "    <tr>\n",
       "      <th>0</th>\n",
       "      <td>6.8</td>\n",
       "      <td>123.0</td>\n",
       "    </tr>\n",
       "    <tr>\n",
       "      <th>1</th>\n",
       "      <td>5.9</td>\n",
       "      <td>106.0</td>\n",
       "    </tr>\n",
       "    <tr>\n",
       "      <th>2</th>\n",
       "      <td>5.3</td>\n",
       "      <td>121.0</td>\n",
       "    </tr>\n",
       "    <tr>\n",
       "      <th>3</th>\n",
       "      <td>7.4</td>\n",
       "      <td>132.0</td>\n",
       "    </tr>\n",
       "    <tr>\n",
       "      <th>4</th>\n",
       "      <td>5.8</td>\n",
       "      <td>142.0</td>\n",
       "    </tr>\n",
       "  </tbody>\n",
       "</table>\n",
       "</div>"
      ],
      "text/plain": [
       "   cgpa     iq\n",
       "0   6.8  123.0\n",
       "1   5.9  106.0\n",
       "2   5.3  121.0\n",
       "3   7.4  132.0\n",
       "4   5.8  142.0"
      ]
     },
     "execution_count": 18,
     "metadata": {},
     "output_type": "execute_result"
    }
   ],
   "source": [
    "x.head()"
   ]
  },
  {
   "cell_type": "code",
   "execution_count": 19,
   "metadata": {
    "colab": {
     "base_uri": "https://localhost:8080/"
    },
    "executionInfo": {
     "elapsed": 6,
     "status": "ok",
     "timestamp": 1691766085354,
     "user": {
      "displayName": "shubh ramani",
      "userId": "04827806432968508212"
     },
     "user_tz": -330
    },
    "id": "WAvsPcCZHbPI",
    "outputId": "c9263e1b-6460-4751-a171-aa980b3139a4"
   },
   "outputs": [
    {
     "data": {
      "text/plain": [
       "0    1\n",
       "1    0\n",
       "2    0\n",
       "3    1\n",
       "4    0\n",
       "Name: placement, dtype: int64"
      ]
     },
     "execution_count": 19,
     "metadata": {},
     "output_type": "execute_result"
    }
   ],
   "source": [
    "y.head()"
   ]
  },
  {
   "cell_type": "code",
   "execution_count": 20,
   "metadata": {
    "colab": {
     "base_uri": "https://localhost:8080/"
    },
    "executionInfo": {
     "elapsed": 6,
     "status": "ok",
     "timestamp": 1691766330948,
     "user": {
      "displayName": "shubh ramani",
      "userId": "04827806432968508212"
     },
     "user_tz": -330
    },
    "id": "15jhctf6HdB-",
    "outputId": "808fec30-38a6-45a9-e22b-284c58b095f1"
   },
   "outputs": [
    {
     "data": {
      "text/plain": [
       "(100,)"
      ]
     },
     "execution_count": 20,
     "metadata": {},
     "output_type": "execute_result"
    }
   ],
   "source": [
    "y.shape"
   ]
  },
  {
   "cell_type": "code",
   "execution_count": 21,
   "metadata": {
    "executionInfo": {
     "elapsed": 532,
     "status": "ok",
     "timestamp": 1691766377932,
     "user": {
      "displayName": "shubh ramani",
      "userId": "04827806432968508212"
     },
     "user_tz": -330
    },
    "id": "g3ZoKF5YIZEp"
   },
   "outputs": [],
   "source": [
    "from sklearn.model_selection import train_test_split"
   ]
  },
  {
   "cell_type": "code",
   "execution_count": 22,
   "metadata": {
    "executionInfo": {
     "elapsed": 526,
     "status": "ok",
     "timestamp": 1691766508354,
     "user": {
      "displayName": "shubh ramani",
      "userId": "04827806432968508212"
     },
     "user_tz": -330
    },
    "id": "fSgnSy-EIkQX"
   },
   "outputs": [],
   "source": [
    "#Train test split\n",
    "x_train,x_test,y_train,y_test=train_test_split(x,y,test_size=0.1)"
   ]
  },
  {
   "cell_type": "code",
   "execution_count": 23,
   "metadata": {
    "colab": {
     "base_uri": "https://localhost:8080/",
     "height": 423
    },
    "executionInfo": {
     "elapsed": 9,
     "status": "ok",
     "timestamp": 1691766532287,
     "user": {
      "displayName": "shubh ramani",
      "userId": "04827806432968508212"
     },
     "user_tz": -330
    },
    "id": "vIaJdar6It2v",
    "outputId": "292c9dda-3fc7-4727-f533-e87992818732"
   },
   "outputs": [
    {
     "data": {
      "text/html": [
       "<div>\n",
       "<style scoped>\n",
       "    .dataframe tbody tr th:only-of-type {\n",
       "        vertical-align: middle;\n",
       "    }\n",
       "\n",
       "    .dataframe tbody tr th {\n",
       "        vertical-align: top;\n",
       "    }\n",
       "\n",
       "    .dataframe thead th {\n",
       "        text-align: right;\n",
       "    }\n",
       "</style>\n",
       "<table border=\"1\" class=\"dataframe\">\n",
       "  <thead>\n",
       "    <tr style=\"text-align: right;\">\n",
       "      <th></th>\n",
       "      <th>cgpa</th>\n",
       "      <th>iq</th>\n",
       "    </tr>\n",
       "  </thead>\n",
       "  <tbody>\n",
       "    <tr>\n",
       "      <th>74</th>\n",
       "      <td>6.7</td>\n",
       "      <td>154.0</td>\n",
       "    </tr>\n",
       "    <tr>\n",
       "      <th>19</th>\n",
       "      <td>5.2</td>\n",
       "      <td>132.0</td>\n",
       "    </tr>\n",
       "    <tr>\n",
       "      <th>94</th>\n",
       "      <td>4.7</td>\n",
       "      <td>52.0</td>\n",
       "    </tr>\n",
       "    <tr>\n",
       "      <th>13</th>\n",
       "      <td>6.4</td>\n",
       "      <td>116.0</td>\n",
       "    </tr>\n",
       "    <tr>\n",
       "      <th>97</th>\n",
       "      <td>6.7</td>\n",
       "      <td>182.0</td>\n",
       "    </tr>\n",
       "    <tr>\n",
       "      <th>...</th>\n",
       "      <td>...</td>\n",
       "      <td>...</td>\n",
       "    </tr>\n",
       "    <tr>\n",
       "      <th>78</th>\n",
       "      <td>6.1</td>\n",
       "      <td>81.0</td>\n",
       "    </tr>\n",
       "    <tr>\n",
       "      <th>7</th>\n",
       "      <td>5.0</td>\n",
       "      <td>63.0</td>\n",
       "    </tr>\n",
       "    <tr>\n",
       "      <th>79</th>\n",
       "      <td>6.5</td>\n",
       "      <td>90.0</td>\n",
       "    </tr>\n",
       "    <tr>\n",
       "      <th>37</th>\n",
       "      <td>8.1</td>\n",
       "      <td>149.0</td>\n",
       "    </tr>\n",
       "    <tr>\n",
       "      <th>91</th>\n",
       "      <td>7.5</td>\n",
       "      <td>158.0</td>\n",
       "    </tr>\n",
       "  </tbody>\n",
       "</table>\n",
       "<p>90 rows × 2 columns</p>\n",
       "</div>"
      ],
      "text/plain": [
       "    cgpa     iq\n",
       "74   6.7  154.0\n",
       "19   5.2  132.0\n",
       "94   4.7   52.0\n",
       "13   6.4  116.0\n",
       "97   6.7  182.0\n",
       "..   ...    ...\n",
       "78   6.1   81.0\n",
       "7    5.0   63.0\n",
       "79   6.5   90.0\n",
       "37   8.1  149.0\n",
       "91   7.5  158.0\n",
       "\n",
       "[90 rows x 2 columns]"
      ]
     },
     "execution_count": 23,
     "metadata": {},
     "output_type": "execute_result"
    }
   ],
   "source": [
    "x_train"
   ]
  },
  {
   "cell_type": "code",
   "execution_count": 24,
   "metadata": {
    "colab": {
     "base_uri": "https://localhost:8080/"
    },
    "executionInfo": {
     "elapsed": 6,
     "status": "ok",
     "timestamp": 1691766581527,
     "user": {
      "displayName": "shubh ramani",
      "userId": "04827806432968508212"
     },
     "user_tz": -330
    },
    "id": "SXou7G62JIud",
    "outputId": "b6aeccdd-de85-47c4-9e4a-669be6aa869d"
   },
   "outputs": [
    {
     "data": {
      "text/plain": [
       "(10, 2)"
      ]
     },
     "execution_count": 24,
     "metadata": {},
     "output_type": "execute_result"
    }
   ],
   "source": [
    "x_test.shape"
   ]
  },
  {
   "cell_type": "code",
   "execution_count": 25,
   "metadata": {
    "colab": {
     "base_uri": "https://localhost:8080/"
    },
    "executionInfo": {
     "elapsed": 9,
     "status": "ok",
     "timestamp": 1691766617014,
     "user": {
      "displayName": "shubh ramani",
      "userId": "04827806432968508212"
     },
     "user_tz": -330
    },
    "id": "b-R_AtXOJNLL",
    "outputId": "364bb5cf-676b-4c48-8bf6-d692f48a8870"
   },
   "outputs": [
    {
     "data": {
      "text/plain": [
       "(10,)"
      ]
     },
     "execution_count": 25,
     "metadata": {},
     "output_type": "execute_result"
    }
   ],
   "source": [
    "y_test.shape"
   ]
  },
  {
   "cell_type": "code",
   "execution_count": 26,
   "metadata": {
    "colab": {
     "base_uri": "https://localhost:8080/"
    },
    "executionInfo": {
     "elapsed": 8,
     "status": "ok",
     "timestamp": 1691766635392,
     "user": {
      "displayName": "shubh ramani",
      "userId": "04827806432968508212"
     },
     "user_tz": -330
    },
    "id": "1lNWWHgHJe2p",
    "outputId": "4a41425c-3f68-4eea-8dc2-3c5d6755015d"
   },
   "outputs": [
    {
     "data": {
      "text/plain": [
       "(90,)"
      ]
     },
     "execution_count": 26,
     "metadata": {},
     "output_type": "execute_result"
    }
   ],
   "source": [
    "y_train.shape"
   ]
  },
  {
   "cell_type": "code",
   "execution_count": 27,
   "metadata": {
    "executionInfo": {
     "elapsed": 849,
     "status": "ok",
     "timestamp": 1691766931601,
     "user": {
      "displayName": "shubh ramani",
      "userId": "04827806432968508212"
     },
     "user_tz": -330
    },
    "id": "3NzzNG95JjHd"
   },
   "outputs": [],
   "source": [
    "#Scales the values\n",
    "from sklearn.preprocessing import StandardScaler as sts"
   ]
  },
  {
   "cell_type": "code",
   "execution_count": 28,
   "metadata": {
    "executionInfo": {
     "elapsed": 3,
     "status": "ok",
     "timestamp": 1691766985618,
     "user": {
      "displayName": "shubh ramani",
      "userId": "04827806432968508212"
     },
     "user_tz": -330
    },
    "id": "H91sbF1TKbkR"
   },
   "outputs": [],
   "source": [
    "scaler=sts()"
   ]
  },
  {
   "cell_type": "code",
   "execution_count": 29,
   "metadata": {
    "executionInfo": {
     "elapsed": 7,
     "status": "ok",
     "timestamp": 1691766993067,
     "user": {
      "displayName": "shubh ramani",
      "userId": "04827806432968508212"
     },
     "user_tz": -330
    },
    "id": "58j73-9qKi3q"
   },
   "outputs": [],
   "source": [
    "x_train= scaler.fit_transform(x_train)"
   ]
  },
  {
   "cell_type": "code",
   "execution_count": 30,
   "metadata": {
    "colab": {
     "base_uri": "https://localhost:8080/"
    },
    "executionInfo": {
     "elapsed": 8,
     "status": "ok",
     "timestamp": 1691767014574,
     "user": {
      "displayName": "shubh ramani",
      "userId": "04827806432968508212"
     },
     "user_tz": -330
    },
    "id": "3Q5KpKYxK0zt",
    "outputId": "1a013604-7b69-4b6f-ae66-3e2f3a6b1064"
   },
   "outputs": [
    {
     "data": {
      "text/plain": [
       "array([[ 0.54930014,  0.81649348],\n",
       "       [-0.77727443,  0.23307338],\n",
       "       [-1.21946595, -1.88845424],\n",
       "       [ 0.28398522, -0.19123214],\n",
       "       [ 0.54930014,  1.55902815],\n",
       "       [ 1.96431301,  1.18776081],\n",
       "       [-1.21946595, -0.96028591],\n",
       "       [-1.04258935, -1.64978239],\n",
       "       [-0.1582063 , -0.4564231 ],\n",
       "       [-0.069768  , -0.56249948],\n",
       "       [-2.45760222,  1.58554724],\n",
       "       [ 1.7874364 ,  1.13472262],\n",
       "       [ 0.37242353,  0.97560805],\n",
       "       [ 0.01867031,  0.23307338],\n",
       "       [ 0.37242353,  0.18003519],\n",
       "       [-0.86571274,  1.39991358],\n",
       "       [ 0.19554692, -0.53598038],\n",
       "       [ 0.81461505, -0.29730852],\n",
       "       [-1.04258935,  0.84301257],\n",
       "       [ 1.34524488,  0.126997  ],\n",
       "       [-0.069768  , -2.07408791],\n",
       "       [ 0.72617674,  0.39218795],\n",
       "       [-0.069768  ,  0.02092062],\n",
       "       [-0.069768  ,  0.683898  ],\n",
       "       [ 1.07992996, -0.19123214],\n",
       "       [ 0.81461505,  2.00985277],\n",
       "       [-0.60039782,  0.31263067],\n",
       "       [ 0.37242353, -2.28624067],\n",
       "       [ 0.63773844,  0.47174524],\n",
       "       [ 0.90305335,  0.73693619],\n",
       "       [-0.77727443, -0.35034671],\n",
       "       [ 0.72617674, -0.72161405],\n",
       "       [ 1.69899809, -1.17243867],\n",
       "       [ 0.63773844, -0.88072862],\n",
       "       [-0.60039782, -0.429904  ],\n",
       "       [-0.069768  , -1.51718691],\n",
       "       [-1.83853409, -0.61553767],\n",
       "       [-0.95415104, -0.85420953],\n",
       "       [-0.33508291,  0.23307338],\n",
       "       [-2.28072561,  2.91150201],\n",
       "       [-1.21946595, -0.05863667],\n",
       "       [ 1.07992996, -0.986805  ],\n",
       "       [-1.48478087,  0.683898  ],\n",
       "       [ 0.01867031, -0.53598038],\n",
       "       [-0.86571274,  0.126997  ],\n",
       "       [-1.04258935,  1.93029548],\n",
       "       [ 0.10710861, -0.27078943],\n",
       "       [ 0.63773844, -0.00559848],\n",
       "       [ 0.46086183,  0.39218795],\n",
       "       [ 1.34524488, -0.90724772],\n",
       "       [ 0.28398522,  0.47174524],\n",
       "       [ 0.90305335, -1.99453063],\n",
       "       [-0.60039782,  0.41870705],\n",
       "       [ 2.14118962, -0.08515576],\n",
       "       [ 1.16836827,  0.23307338],\n",
       "       [ 0.01867031, -1.543706  ],\n",
       "       [-0.77727443,  1.00212715],\n",
       "       [-0.68883613, -0.05863667],\n",
       "       [ 0.81461505,  1.37339448],\n",
       "       [ 1.25680657,  0.18003519],\n",
       "       [-0.2466446 ,  1.13472262],\n",
       "       [-1.57321917,  2.03637186],\n",
       "       [ 1.52212149, -0.24427033],\n",
       "       [ 0.46086183, -0.08515576],\n",
       "       [-0.33508291,  0.52478343],\n",
       "       [ 0.01867031,  0.86953167],\n",
       "       [-1.13102765, -0.29730852],\n",
       "       [-0.33508291,  0.44522614],\n",
       "       [ 0.72617674,  0.41870705],\n",
       "       [-0.95415104, -0.13819395],\n",
       "       [-0.86571274, -1.51718691],\n",
       "       [-1.92697239, -0.37686581],\n",
       "       [-0.68883613, -0.24427033],\n",
       "       [-1.13102765,  0.47174524],\n",
       "       [ 1.07992996, -1.94149243],\n",
       "       [ 0.63773844, -0.29730852],\n",
       "       [-1.04258935, -0.08515576],\n",
       "       [-0.2466446 ,  0.49826434],\n",
       "       [ 0.81461505,  0.41870705],\n",
       "       [-0.60039782, -0.24427033],\n",
       "       [ 1.07992996,  0.36566886],\n",
       "       [-1.04258935,  0.28611157],\n",
       "       [ 0.19554692,  0.126997  ],\n",
       "       [-1.04258935,  0.73693619],\n",
       "       [ 1.25680657, -1.64978239],\n",
       "       [ 0.01867031, -1.11940048],\n",
       "       [-0.95415104, -1.5967442 ],\n",
       "       [ 0.37242353, -0.88072862],\n",
       "       [ 1.7874364 ,  0.683898  ],\n",
       "       [ 1.25680657,  0.92256986]])"
      ]
     },
     "execution_count": 30,
     "metadata": {},
     "output_type": "execute_result"
    }
   ],
   "source": [
    "x_train"
   ]
  },
  {
   "cell_type": "code",
   "execution_count": 31,
   "metadata": {
    "executionInfo": {
     "elapsed": 520,
     "status": "ok",
     "timestamp": 1691767138913,
     "user": {
      "displayName": "shubh ramani",
      "userId": "04827806432968508212"
     },
     "user_tz": -330
    },
    "id": "43NWph5kK-Fk"
   },
   "outputs": [],
   "source": [
    "x_test=scaler.transform(x_test)"
   ]
  },
  {
   "cell_type": "code",
   "execution_count": 32,
   "metadata": {
    "colab": {
     "base_uri": "https://localhost:8080/"
    },
    "executionInfo": {
     "elapsed": 531,
     "status": "ok",
     "timestamp": 1691767143498,
     "user": {
      "displayName": "shubh ramani",
      "userId": "04827806432968508212"
     },
     "user_tz": -330
    },
    "id": "woAZdn8eLeMh",
    "outputId": "cbc218c5-d01a-4a21-adb4-181c4a255fae"
   },
   "outputs": [
    {
     "data": {
      "text/plain": [
       "array([[ 0.81461505, -1.5702251 ],\n",
       "       [-0.33508291,  1.21427991],\n",
       "       [-1.83853409, -1.27851505],\n",
       "       [-1.48478087, -2.1536452 ],\n",
       "       [-0.77727443, -0.88072862],\n",
       "       [ 0.19554692,  0.10047791],\n",
       "       [-0.77727443,  2.67283015],\n",
       "       [-1.13102765,  1.05516534],\n",
       "       [-1.13102765,  1.21427991],\n",
       "       [-1.30790426,  0.60434072]])"
      ]
     },
     "execution_count": 32,
     "metadata": {},
     "output_type": "execute_result"
    }
   ],
   "source": [
    "x_test"
   ]
  },
  {
   "cell_type": "code",
   "execution_count": 33,
   "metadata": {
    "executionInfo": {
     "elapsed": 3,
     "status": "ok",
     "timestamp": 1691767193848,
     "user": {
      "displayName": "shubh ramani",
      "userId": "04827806432968508212"
     },
     "user_tz": -330
    },
    "id": "KNeBBLFHLfNa"
   },
   "outputs": [],
   "source": [
    "#Train the model\n",
    "from sklearn.linear_model import LogisticRegression"
   ]
  },
  {
   "cell_type": "code",
   "execution_count": 34,
   "metadata": {
    "executionInfo": {
     "elapsed": 4,
     "status": "ok",
     "timestamp": 1691767223114,
     "user": {
      "displayName": "shubh ramani",
      "userId": "04827806432968508212"
     },
     "user_tz": -330
    },
    "id": "IVf-dDlILr0j"
   },
   "outputs": [],
   "source": [
    "clf= LogisticRegression()"
   ]
  },
  {
   "cell_type": "code",
   "execution_count": 35,
   "metadata": {
    "colab": {
     "base_uri": "https://localhost:8080/",
     "height": 74
    },
    "executionInfo": {
     "elapsed": 565,
     "status": "ok",
     "timestamp": 1691767317127,
     "user": {
      "displayName": "shubh ramani",
      "userId": "04827806432968508212"
     },
     "user_tz": -330
    },
    "id": "nxc5jKOHLyuS",
    "outputId": "0e963e00-da45-43b7-ff6f-b0f464aafd64"
   },
   "outputs": [
    {
     "data": {
      "text/html": [
       "<style>#sk-container-id-1 {color: black;}#sk-container-id-1 pre{padding: 0;}#sk-container-id-1 div.sk-toggleable {background-color: white;}#sk-container-id-1 label.sk-toggleable__label {cursor: pointer;display: block;width: 100%;margin-bottom: 0;padding: 0.3em;box-sizing: border-box;text-align: center;}#sk-container-id-1 label.sk-toggleable__label-arrow:before {content: \"▸\";float: left;margin-right: 0.25em;color: #696969;}#sk-container-id-1 label.sk-toggleable__label-arrow:hover:before {color: black;}#sk-container-id-1 div.sk-estimator:hover label.sk-toggleable__label-arrow:before {color: black;}#sk-container-id-1 div.sk-toggleable__content {max-height: 0;max-width: 0;overflow: hidden;text-align: left;background-color: #f0f8ff;}#sk-container-id-1 div.sk-toggleable__content pre {margin: 0.2em;color: black;border-radius: 0.25em;background-color: #f0f8ff;}#sk-container-id-1 input.sk-toggleable__control:checked~div.sk-toggleable__content {max-height: 200px;max-width: 100%;overflow: auto;}#sk-container-id-1 input.sk-toggleable__control:checked~label.sk-toggleable__label-arrow:before {content: \"▾\";}#sk-container-id-1 div.sk-estimator input.sk-toggleable__control:checked~label.sk-toggleable__label {background-color: #d4ebff;}#sk-container-id-1 div.sk-label input.sk-toggleable__control:checked~label.sk-toggleable__label {background-color: #d4ebff;}#sk-container-id-1 input.sk-hidden--visually {border: 0;clip: rect(1px 1px 1px 1px);clip: rect(1px, 1px, 1px, 1px);height: 1px;margin: -1px;overflow: hidden;padding: 0;position: absolute;width: 1px;}#sk-container-id-1 div.sk-estimator {font-family: monospace;background-color: #f0f8ff;border: 1px dotted black;border-radius: 0.25em;box-sizing: border-box;margin-bottom: 0.5em;}#sk-container-id-1 div.sk-estimator:hover {background-color: #d4ebff;}#sk-container-id-1 div.sk-parallel-item::after {content: \"\";width: 100%;border-bottom: 1px solid gray;flex-grow: 1;}#sk-container-id-1 div.sk-label:hover label.sk-toggleable__label {background-color: #d4ebff;}#sk-container-id-1 div.sk-serial::before {content: \"\";position: absolute;border-left: 1px solid gray;box-sizing: border-box;top: 0;bottom: 0;left: 50%;z-index: 0;}#sk-container-id-1 div.sk-serial {display: flex;flex-direction: column;align-items: center;background-color: white;padding-right: 0.2em;padding-left: 0.2em;position: relative;}#sk-container-id-1 div.sk-item {position: relative;z-index: 1;}#sk-container-id-1 div.sk-parallel {display: flex;align-items: stretch;justify-content: center;background-color: white;position: relative;}#sk-container-id-1 div.sk-item::before, #sk-container-id-1 div.sk-parallel-item::before {content: \"\";position: absolute;border-left: 1px solid gray;box-sizing: border-box;top: 0;bottom: 0;left: 50%;z-index: -1;}#sk-container-id-1 div.sk-parallel-item {display: flex;flex-direction: column;z-index: 1;position: relative;background-color: white;}#sk-container-id-1 div.sk-parallel-item:first-child::after {align-self: flex-end;width: 50%;}#sk-container-id-1 div.sk-parallel-item:last-child::after {align-self: flex-start;width: 50%;}#sk-container-id-1 div.sk-parallel-item:only-child::after {width: 0;}#sk-container-id-1 div.sk-dashed-wrapped {border: 1px dashed gray;margin: 0 0.4em 0.5em 0.4em;box-sizing: border-box;padding-bottom: 0.4em;background-color: white;}#sk-container-id-1 div.sk-label label {font-family: monospace;font-weight: bold;display: inline-block;line-height: 1.2em;}#sk-container-id-1 div.sk-label-container {text-align: center;}#sk-container-id-1 div.sk-container {/* jupyter's `normalize.less` sets `[hidden] { display: none; }` but bootstrap.min.css set `[hidden] { display: none !important; }` so we also need the `!important` here to be able to override the default hidden behavior on the sphinx rendered scikit-learn.org. See: https://github.com/scikit-learn/scikit-learn/issues/21755 */display: inline-block !important;position: relative;}#sk-container-id-1 div.sk-text-repr-fallback {display: none;}</style><div id=\"sk-container-id-1\" class=\"sk-top-container\"><div class=\"sk-text-repr-fallback\"><pre>LogisticRegression()</pre><b>In a Jupyter environment, please rerun this cell to show the HTML representation or trust the notebook. <br />On GitHub, the HTML representation is unable to render, please try loading this page with nbviewer.org.</b></div><div class=\"sk-container\" hidden><div class=\"sk-item\"><div class=\"sk-estimator sk-toggleable\"><input class=\"sk-toggleable__control sk-hidden--visually\" id=\"sk-estimator-id-1\" type=\"checkbox\" checked><label for=\"sk-estimator-id-1\" class=\"sk-toggleable__label sk-toggleable__label-arrow\">LogisticRegression</label><div class=\"sk-toggleable__content\"><pre>LogisticRegression()</pre></div></div></div></div></div>"
      ],
      "text/plain": [
       "LogisticRegression()"
      ]
     },
     "execution_count": 35,
     "metadata": {},
     "output_type": "execute_result"
    }
   ],
   "source": [
    "#model training\n",
    "clf.fit(x_train,y_train)"
   ]
  },
  {
   "cell_type": "code",
   "execution_count": 36,
   "metadata": {
    "executionInfo": {
     "elapsed": 24,
     "status": "ok",
     "timestamp": 1691767424651,
     "user": {
      "displayName": "shubh ramani",
      "userId": "04827806432968508212"
     },
     "user_tz": -330
    },
    "id": "PqP_Q0itMJq7"
   },
   "outputs": [],
   "source": [
    "#Evaluate the model\n",
    "y_pred=clf.predict(x_test)"
   ]
  },
  {
   "cell_type": "code",
   "execution_count": 37,
   "metadata": {
    "colab": {
     "base_uri": "https://localhost:8080/"
    },
    "executionInfo": {
     "elapsed": 5,
     "status": "ok",
     "timestamp": 1691767382928,
     "user": {
      "displayName": "shubh ramani",
      "userId": "04827806432968508212"
     },
     "user_tz": -330
    },
    "id": "ssKOefUmMVUY",
    "outputId": "052effdf-d571-4728-cd50-4a2f339845db"
   },
   "outputs": [
    {
     "data": {
      "text/plain": [
       "64    1\n",
       "84    0\n",
       "68    0\n",
       "96    0\n",
       "28    0\n",
       "70    1\n",
       "16    0\n",
       "34    0\n",
       "75    0\n",
       "39    0\n",
       "Name: placement, dtype: int64"
      ]
     },
     "execution_count": 37,
     "metadata": {},
     "output_type": "execute_result"
    }
   ],
   "source": [
    "y_test"
   ]
  },
  {
   "cell_type": "code",
   "execution_count": 38,
   "metadata": {
    "executionInfo": {
     "elapsed": 556,
     "status": "ok",
     "timestamp": 1691767478823,
     "user": {
      "displayName": "shubh ramani",
      "userId": "04827806432968508212"
     },
     "user_tz": -330
    },
    "id": "oIzKVQ7aMZaV"
   },
   "outputs": [],
   "source": [
    "from sklearn.metrics import accuracy_score"
   ]
  },
  {
   "cell_type": "code",
   "execution_count": 39,
   "metadata": {
    "executionInfo": {
     "elapsed": 537,
     "status": "ok",
     "timestamp": 1691767567410,
     "user": {
      "displayName": "shubh ramani",
      "userId": "04827806432968508212"
     },
     "user_tz": -330
    },
    "id": "gKh9-wYCM3a5"
   },
   "outputs": [],
   "source": [
    "from mlxtend.plotting import plot_decision_regions"
   ]
  },
  {
   "cell_type": "code",
   "execution_count": 40,
   "metadata": {
    "colab": {
     "base_uri": "https://localhost:8080/"
    },
    "executionInfo": {
     "elapsed": 516,
     "status": "ok",
     "timestamp": 1691767505219,
     "user": {
      "displayName": "shubh ramani",
      "userId": "04827806432968508212"
     },
     "user_tz": -330
    },
    "id": "WmkNTVzsMxAM",
    "outputId": "bc6707fd-61da-46a0-8574-541337b7fb32"
   },
   "outputs": [
    {
     "data": {
      "text/plain": [
       "1.0"
      ]
     },
     "execution_count": 40,
     "metadata": {},
     "output_type": "execute_result"
    }
   ],
   "source": [
    "accuracy_score(y_test,y_pred)"
   ]
  },
  {
   "cell_type": "code",
   "execution_count": 41,
   "metadata": {
    "colab": {
     "base_uri": "https://localhost:8080/",
     "height": 447
    },
    "executionInfo": {
     "elapsed": 954,
     "status": "ok",
     "timestamp": 1691767682586,
     "user": {
      "displayName": "shubh ramani",
      "userId": "04827806432968508212"
     },
     "user_tz": -330
    },
    "id": "-ciqybhkNG0n",
    "outputId": "a99df6e3-18db-416b-963e-7d97d1f247ec"
   },
   "outputs": [
    {
     "data": {
      "text/plain": [
       "<Axes: >"
      ]
     },
     "execution_count": 41,
     "metadata": {},
     "output_type": "execute_result"
    },
    {
     "data": {
      "image/png": "[encoded data removed]",
      "text/plain": [
       "<Figure size 640x480 with 1 Axes>"
      ]
     },
     "metadata": {},
     "output_type": "display_data"
    }
   ],
   "source": [
    "plot_decision_regions(x_train,y_train.values,clf=clf, legend=2)"
   ]
  },
  {
   "cell_type": "code",
   "execution_count": 42,
   "metadata": {
    "executionInfo": {
     "elapsed": 2,
     "status": "ok",
     "timestamp": 1691767985608,
     "user": {
      "displayName": "shubh ramani",
      "userId": "04827806432968508212"
     },
     "user_tz": -330
    },
    "id": "QxORMUYtNi1q"
   },
   "outputs": [],
   "source": [
    "#Deploy the model\n",
    "import pickle"
   ]
  },
  {
   "cell_type": "code",
   "execution_count": 35,
   "metadata": {
    "executionInfo": {
     "elapsed": 546,
     "status": "ok",
     "timestamp": 1691768002839,
     "user": {
      "displayName": "shubh ramani",
      "userId": "04827806432968508212"
     },
     "user_tz": -330
    },
    "id": "Z7F8bwWlOYDn"
   },
   "outputs": [],
   "source": [
    "pickle.dump(clf,open(\"modle.pkl\",\"wb\"))"
   ]
  },
  {
   "cell_type": "code",
   "execution_count": null,
   "metadata": {},
   "outputs": [],
   "source": []
  }
 ],
 "metadata": {
  "colab": {
   "authorship_tag": "ABX9TyOvUQFoyYhBCRJafdEHP3GC",
   "provenance": []
  },
  "kernelspec": {
   "display_name": "Python 3 (ipykernel)",
   "language": "python",
   "name": "python3"
  },
  "language_info": {
   "codemirror_mode": {
    "name": "ipython",
    "version": 3
   },
   "file_extension": ".py",
   "mimetype": "text/x-python",
   "name": "python",
   "nbconvert_exporter": "python",
   "pygments_lexer": "ipython3",
   "version": "3.11.4"
  }
 },
 "nbformat": 4,
 "nbformat_minor": 1
}
